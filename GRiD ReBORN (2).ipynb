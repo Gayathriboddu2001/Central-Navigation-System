{
 "cells": [
  {
   "cell_type": "markdown",
   "id": "43912499",
   "metadata": {},
   "source": [
    "# GRiD SOFTWARE v5\n",
    "---\n",
    "## Objectives\n",
    "- Make the bot move to a desired aruco in a straight line and stop at the centre of aruco.\n",
    "- Given N bots with N list of paths, Guide the bots sequentially. (N is variable)\n",
    "- Exhaustive Error Handling and Scalable Soultion\n",
    "---\n",
    "## PipeLine\n",
    "- Send a 32 bit number to ESP, comprising RPM of 4 wheels : DONE\n",
    "- Figure out the mathematics of mapping wheel RPMs to Bot movement\n",
    "- Implement Proportional Control for navigation : DONE\n",
    "- Construct proper Loops to handle all cases"
   ]
  },
  {
   "cell_type": "markdown",
   "id": "cd915495",
   "metadata": {},
   "source": [
    "## Import Necessary Modules"
   ]
  },
  {
   "cell_type": "code",
   "execution_count": 1,
   "id": "52c73aac",
   "metadata": {},
   "outputs": [],
   "source": [
    "import socket\n",
    "import cv2"
   ]
  },
  {
   "cell_type": "markdown",
   "id": "d069bba0",
   "metadata": {},
   "source": [
    "## Constants Used"
   ]
  },
  {
   "cell_type": "code",
   "execution_count": 2,
   "id": "002beeb8",
   "metadata": {},
   "outputs": [],
   "source": [
    "port = 8093\n",
    "url = 'Insert Cam URL here'\n",
    "p = 60\n",
    "bots = [] #Enter the Bot IDs in sequence\n",
    "path = [[]] #Enter the path of each bot in sequence\n",
    "flip = [] #Enter aruco_IDS to flip\n",
    "max_d = 0\n",
    "max_ang = 3.14\n",
    "rpm = [0,0,0,0] #fr,fl,br,bl"
   ]
  },
  {
   "cell_type": "markdown",
   "id": "66912cd0",
   "metadata": {},
   "source": [
    "## Functions Used"
   ]
  },
  {
   "cell_type": "code",
   "execution_count": 3,
   "id": "4a2b9773",
   "metadata": {},
   "outputs": [],
   "source": [
    "def distCalc(r1, r2):\n",
    "    x1, y1 = r1\n",
    "    x2, y2 = r2 \n",
    "    \n",
    "    return math.dist((x1,y1), (x2,y2))\n",
    "\n",
    "def centreCalc(r1, r2):\n",
    "    return (int((r1[0]+r2[0])/2), int((r1[1]+r2[1])/2))\n",
    "\n",
    "def angleCalc(r1, r2):\n",
    "    x1, y1 = r1\n",
    "    x2, y2 = r2\n",
    "    \n",
    "    inner_prod = x1*x2 + y1*y2\n",
    "    len1 = math.hypot(x1, y1)\n",
    "    len2 = math.hypot(x2, y2)\n",
    "    \n",
    "    angle = math.acos(inner_prod/(len1*len2))\n",
    "    \n",
    "    if (x1*y2 - x2*y1) < 0:\n",
    "        angle = -angle\n",
    "    \n",
    "    return angle"
   ]
  },
  {
   "cell_type": "markdown",
   "id": "9780f65d",
   "metadata": {},
   "source": [
    "## Server"
   ]
  },
  {
   "cell_type": "code",
   "execution_count": 4,
   "id": "4d102fa7",
   "metadata": {},
   "outputs": [],
   "source": [
    "def getHostIP():\n",
    "    hostname = socket.gethostname()\n",
    "    my_ip = socket.gethostbyname(hostname)\n",
    "    print(my_ip)\n",
    "\n",
    "def startServer(port):\n",
    "    global serversocket\n",
    "    # INET is for IPv4 and STREAM is for TCP\n",
    "    serversocket = socket.socket(socket.AF_INET, socket.SOCK_STREAM)  \n",
    "    host = '0.0.0.0'\n",
    "\n",
    "    try:\n",
    "        serversocket.bind((host,port))\n",
    "    except socket.error as e:\n",
    "        print(str(e))\n",
    "\n",
    "    print(\"Waiting for connection\")\n",
    "    \n",
    "    serversocket.listen(2)\n",
    "\n",
    "    global client, addr\n",
    "    client, addr = serversocket.accept()\n",
    "    print(\"Connection made with \" + str(client))\n",
    "\n",
    "def closeServer():\n",
    "    client.close()\n",
    "    serversocket.close()\n",
    "    print(\"Server closed successfully\")\n",
    "    \n",
    "def sendRPM(rpm):\n",
    "    data = '-'.join(str(x) for x in rpm)\n",
    "    data += '-'\n",
    "    print(data)\n",
    "    client.sendto(data.encode('UTF-8'), addr)\n",
    "    #if sent == 0:\n",
    "     #   print(\"SOCKET Connection broken\")\n",
    "        \n",
    "def sendCommand(x):\n",
    "    client.sendto(x.encode('UTF-8'), addr)"
   ]
  },
  {
   "cell_type": "markdown",
   "id": "6d263608",
   "metadata": {},
   "source": [
    "## Save the Video"
   ]
  },
  {
   "cell_type": "code",
   "execution_count": 5,
   "id": "d83048a2",
   "metadata": {},
   "outputs": [],
   "source": [
    "def convert_frames_to_video(pathIn,pathOut,fps):\n",
    "    frame_array = []\n",
    "    files = [f for f in os.listdir(pathIn) if isfile(join(pathIn, f))]\n",
    "\n",
    "    #for sorting the file names properly\n",
    "    files = sorted(files, key=lambda x: int(x.split('.')[1]))\n",
    "\n",
    "    for i in range(len(files)):\n",
    "        filename=pathIn + files[i]\n",
    "        #reading each files\n",
    "        img = cv2.imread(filename)\n",
    "        height, width, layers = img.shape\n",
    "        size = (width,height)\n",
    "        #print(filename)\n",
    "        #inserting the frames into an image array\n",
    "        frame_array.append(img)\n",
    "\n",
    "    out = cv2.VideoWriter(pathOut,cv2.VideoWriter_fourcc(*'DIVX'), fps, size)\n",
    "\n",
    "    for i in range(len(frame_array)):\n",
    "        # writing to a image array\n",
    "        out.write(frame_array[i])\n",
    "    out.release()\n",
    "    shutil.rmtree('./data')\n",
    "    \n",
    "\n",
    "#convert_frames_to_video('./data/', 'tracker_22_09_21_1.mp4', 10.0)"
   ]
  },
  {
   "cell_type": "markdown",
   "id": "d18dd182",
   "metadata": {},
   "source": [
    "## Bot Tracker"
   ]
  },
  {
   "cell_type": "code",
   "execution_count": 6,
   "id": "f13fecc8",
   "metadata": {},
   "outputs": [],
   "source": [
    "def arucoDetector(img) :\n",
    "    imgGray = cv2.cvtColor(img, cv2.COLOR_BGR2GRAY)\n",
    "    key = getattr(aruco, f'DICT_4X4_250')\n",
    "    arucoDict = aruco.Dictionary_get(key)\n",
    "    arucoParam = aruco.DetectorParameters_create()\n",
    "\n",
    "    bbox, ids, rejected = aruco.detectMarkers(imgGray, arucoDict, parameters=arucoParam)\n",
    "    \n",
    "    img = aruco.drawDetectedMarkers(img, bbox)\n",
    "    \n",
    "    return img, bbox, ids"
   ]
  },
  {
   "cell_type": "markdown",
   "id": "7b6a3593",
   "metadata": {},
   "source": [
    "## Parameters Calculator"
   ]
  },
  {
   "cell_type": "code",
   "execution_count": 7,
   "id": "4e40d02a",
   "metadata": {},
   "outputs": [],
   "source": [
    "def arucoOrient(img, bbox, ids, bot, dest = 0) :\n",
    "    bot_flag = 0\n",
    "    dest_flag = 0\n",
    "    for i in range(len(ids)):\n",
    "        if ids[i]==dest:\n",
    "            dest_coords = centreCalc(bbox[i][0][0],bbox[i][0][2])\n",
    "            dest_flag = 1\n",
    "        if ids[i]==bot_ids[bot]:\n",
    "            bot_coords = centreCalc(bbox[i][0][0], bbox[i][0][2])\n",
    "            bot_front = centreCalc(bbox[i][0][0], bbox[i][0][1])\n",
    "            bot_rear = centreCalc(bbox[i][0][2], bbox[i][0][3])\n",
    "            bot_flag = 1\n",
    "\n",
    "\n",
    "    img = cv2.arrowedLine(img, bot_rear, bot_front, (0,0,255), 2)\n",
    "    img = cv2.arrowedLine(img, bot_coords, dest_coords, (0,255,0), 2)\n",
    "    angle = angleCalc(np.subtract(np.array(bot_front), np.array(bot_rear)),np.subtract(np.array(dest_coords), np.array(bot_coords)))\n",
    "    distance = distCalc(bot_coords, dest_coords)\n",
    "    return img, bot_coords, dest_coords, distance, angle"
   ]
  },
  {
   "cell_type": "markdown",
   "id": "7ed7ff21",
   "metadata": {},
   "source": [
    "## Navigation Algorithm"
   ]
  },
  {
   "cell_type": "code",
   "execution_count": 8,
   "id": "97d31864",
   "metadata": {},
   "outputs": [],
   "source": [
    "def commandfunc(distance, angle, r_thr = 10, theta_thr = 0.01):\n",
    "    global max_d, max_ang, rpm\n",
    "    flag=0\n",
    "    if distance > max_d:\n",
    "        max_d = distance\n",
    "        \n",
    "    \n",
    "    #if angle > max_ang:\n",
    "    #    max_ang = angle\n",
    "    \n",
    "       \n",
    "    \n",
    "    if abs(angle) < theta_thr :\n",
    "        if distance > r_thr:\n",
    "            v_lin = (distance/max_d)*255\n",
    "            rpm = [v_lin,v_lin,v_lin,v_lin]\n",
    "        else:\n",
    "            rpm = [0,0,0,0]\n",
    "            flag = 1\n",
    "            max_d = 0\n",
    "        \n",
    "    elif angle > theta_thr :\n",
    "        v_ang = (abs(angle)/max_ang)*255\n",
    "        rpm = [0,v_ang,0,v_ang]\n",
    "    \n",
    "    elif angle < (-1*theta_thr) :\n",
    "        v_ang = (abs(angle)/max_ang)*255\n",
    "        rpm = [v_ang,0,v_ang,0]\n",
    "    \n",
    "    #print(max_d, max_ang)\n",
    "    \n",
    "    return rpm, flag"
   ]
  },
  {
   "cell_type": "markdown",
   "id": "f2fa7afd",
   "metadata": {},
   "source": [
    "## Main Function"
   ]
  },
  {
   "cell_type": "code",
   "execution_count": null,
   "id": "7e357de2",
   "metadata": {},
   "outputs": [],
   "source": []
  },
  {
   "cell_type": "code",
   "execution_count": 9,
   "id": "6379f850",
   "metadata": {},
   "outputs": [
    {
     "name": "stdout",
     "output_type": "stream",
     "text": [
      "Waiting for connection\n",
      "Connection made with <socket.socket fd=512, family=AddressFamily.AF_INET, type=SocketKind.SOCK_STREAM, proto=0, laddr=('192.168.137.1', 8091), raddr=('192.168.137.163', 61069)>\n"
     ]
    }
   ],
   "source": [
    "startServer(8091)\n",
    "\n",
    "sendCommand('9')\n",
    "\n",
    "\n"
   ]
  },
  {
   "cell_type": "code",
   "execution_count": 10,
   "id": "ae54174e",
   "metadata": {},
   "outputs": [],
   "source": [
    "#sendCommand('1')"
   ]
  },
  {
   "cell_type": "code",
   "execution_count": 11,
   "id": "5c86c7a8",
   "metadata": {},
   "outputs": [],
   "source": [
    "#rpm = [100]*4\n",
    "#sendRPM(rpm)"
   ]
  },
  {
   "cell_type": "code",
   "execution_count": 12,
   "id": "d49bbf8e",
   "metadata": {},
   "outputs": [],
   "source": [
    "#closeServer()"
   ]
  },
  {
   "cell_type": "code",
   "execution_count": null,
   "id": "1eb1480f",
   "metadata": {},
   "outputs": [],
   "source": []
  },
  {
   "cell_type": "code",
   "execution_count": null,
   "id": "99126d08",
   "metadata": {},
   "outputs": [],
   "source": []
  }
 ],
 "metadata": {
  "kernelspec": {
   "display_name": "Python 3",
   "language": "python",
   "name": "python3"
  },
  "language_info": {
   "codemirror_mode": {
    "name": "ipython",
    "version": 3
   },
   "file_extension": ".py",
   "mimetype": "text/x-python",
   "name": "python",
   "nbconvert_exporter": "python",
   "pygments_lexer": "ipython3",
   "version": "3.8.8"
  }
 },
 "nbformat": 4,
 "nbformat_minor": 5
}
